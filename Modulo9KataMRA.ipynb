{
 "cells": [
  {
   "cell_type": "markdown",
   "metadata": {},
   "source": [
    "## Módulo 9 Kata"
   ]
  },
  {
   "cell_type": "markdown",
   "metadata": {},
   "source": [
    "### Ejercicio 1 - Uso de funciones en Python"
   ]
  },
  {
   "cell_type": "code",
   "execution_count": 30,
   "metadata": {},
   "outputs": [
    {
     "name": "stdout",
     "output_type": "stream",
     "text": [
      "---Informe de combustible---\n",
      "Combustible del tanque 1: 45 litros\n",
      "Combustible del tanque 2: 60 litros\n",
      "Combustible del tanque 3: 89 litros\n",
      "Promedio del combustible en la nave: 65 litros\n"
     ]
    }
   ],
   "source": [
    "def inf_combustible(tanque_1,tanque_2,tanque_3):\n",
    "    prom_tanques = (tanque_1 + tanque_2 + tanque_3)/3\n",
    "    return f\"\"\"---Informe de combustible---\n",
    "Combustible del tanque 1: {tanque_1} litros\n",
    "Combustible del tanque 2: {tanque_2} litros\n",
    "Combustible del tanque 3: {tanque_3} litros\n",
    "Promedio del combustible en la nave: {round(prom_tanques)} litros\"\"\"\n",
    "\n",
    "print(inf_combustible(45,60,89))"
   ]
  },
  {
   "cell_type": "code",
   "execution_count": 32,
   "metadata": {},
   "outputs": [
    {
     "name": "stdout",
     "output_type": "stream",
     "text": [
      "---Informe de combustible---\n",
      "Combustible del tanque 1: 34 litros\n",
      "Combustible del tanque 2: 90 litros\n",
      "Combustible del tanque 3: 73 litros\n",
      "Promedio del combustible en la nave: 66 litros\n"
     ]
    }
   ],
   "source": [
    "def prom_combustible(tan_1,tan_2,tan_3):\n",
    "    prom_tanques = (tan_3 + tan_2 + tan_1)/3\n",
    "    return prom_tanques\n",
    "\n",
    "def inf_combustible(tanque_1,tanque_2,tanque_3):\n",
    "    return f\"\"\"---Informe de combustible---\n",
    "Combustible del tanque 1: {tanque_1} litros\n",
    "Combustible del tanque 2: {tanque_2} litros\n",
    "Combustible del tanque 3: {tanque_3} litros\n",
    "Promedio del combustible en la nave: {round(prom_combustible(tanque_1,tanque_2,tanque_3))} litros\"\"\"\n",
    "\n",
    "print(inf_combustible(34,90,73))"
   ]
  },
  {
   "cell_type": "markdown",
   "metadata": {},
   "source": [
    "### Ejercicio 2 - Trabajo con argumentos de palabra clave"
   ]
  },
  {
   "cell_type": "code",
   "execution_count": 33,
   "metadata": {},
   "outputs": [
    {
     "name": "stdout",
     "output_type": "stream",
     "text": [
      "---INFORME DEL COHETE---\n",
      "Hora de prelanzamiento: 14:30 hrs\n",
      "Tiempo de vuelo hasta el destino: 600 minutos\n",
      "Destino: Luna\n",
      "Nivel de combustible en tanque externo: 100 litros\n",
      "Nivel de combustible en tanque interno: 150 litros\n"
     ]
    }
   ],
   "source": [
    "def inf_cohete(hr_prelanzamiento, t_vuelo, destino, tanque_ext, tanque_int):\n",
    "    return f\"\"\"---INFORME DEL COHETE---\n",
    "Hora de prelanzamiento: {hr_prelanzamiento} hrs\n",
    "Tiempo de vuelo hasta el destino: {t_vuelo} minutos\n",
    "Destino: {destino}\n",
    "Nivel de combustible en tanque externo: {tanque_ext} litros\n",
    "Nivel de combustible en tanque interno: {tanque_int} litros\"\"\"\n",
    "\n",
    "print(inf_cohete(\"14:30\", 600, \"Luna\", 100, 150))"
   ]
  },
  {
   "cell_type": "code",
   "execution_count": 35,
   "metadata": {},
   "outputs": [
    {
     "name": "stdout",
     "output_type": "stream",
     "text": [
      "---INFORME DEL COHETE---\n",
      "Hora de prelanzamiento: 14:30 hrs\n",
      "Tiempo de vuelo hasta el destino: 400 minutos\n",
      "Destino: Luna\n",
      "Nivel de combustible total en tanques: 250 litros\n"
     ]
    }
   ],
   "source": [
    "def inf_cohete(hr_prelanzamiento, *t_vuelo, destino, **tanques):\n",
    "    return f\"\"\"---INFORME DEL COHETE---\n",
    "Hora de prelanzamiento: {hr_prelanzamiento} hrs\n",
    "Tiempo de vuelo hasta el destino: {sum(t_vuelo)} minutos\n",
    "Destino: {destino}\n",
    "Nivel de combustible total en tanques: {sum(tanques.values())} litros\"\"\"\n",
    "\n",
    "print(inf_cohete(\"14:30\", 150, 200, 50, destino=\"Luna\", tanque_1=100, tanque_2=150))"
   ]
  },
  {
   "cell_type": "code",
   "execution_count": 40,
   "metadata": {},
   "outputs": [
    {
     "name": "stdout",
     "output_type": "stream",
     "text": [
      "---INFORME DEL COHETE---\n",
      "Hora de prelanzamiento: 14:30 hrs\n",
      "Tiempo de vuelo hasta el destino: 400 minutos\n",
      "Destino: Luna\n",
      "Nivel de combustible total en tanques: 250 litros\n",
      "Nivel de combustible total en tanque_1: 100 litros\n",
      "Nivel de combustible total en tanque_2: 150 litros\n"
     ]
    }
   ],
   "source": [
    "def inf_cohete(hr_prelanzamiento, *t_vuelo, destino, **tanques):\n",
    "    informe = f\"\"\"---INFORME DEL COHETE---\n",
    "Hora de prelanzamiento: {hr_prelanzamiento} hrs\n",
    "Tiempo de vuelo hasta el destino: {sum(t_vuelo)} minutos\n",
    "Destino: {destino}\n",
    "Nivel de combustible total en tanques: {sum(tanques.values())} litros\"\"\"\n",
    "\n",
    "    for tanque, combustible in tanques.items():\n",
    "        informe = informe + f\"\\nNivel de combustible total en {tanque}: {combustible} litros\"\n",
    "    \n",
    "    return informe\n",
    "\n",
    "print(inf_cohete(\"14:30\", 150, 200, 50, destino=\"Luna\", tanque_1=100, tanque_2=150))"
   ]
  }
 ],
 "metadata": {
  "interpreter": {
   "hash": "38740d3277777e2cd7c6c2cc9d8addf5118fdf3f82b1b39231fd12aeac8aee8b"
  },
  "kernelspec": {
   "display_name": "Python 3.9.5 64-bit",
   "language": "python",
   "name": "python3"
  },
  "language_info": {
   "codemirror_mode": {
    "name": "ipython",
    "version": 3
   },
   "file_extension": ".py",
   "mimetype": "text/x-python",
   "name": "python",
   "nbconvert_exporter": "python",
   "pygments_lexer": "ipython3",
   "version": "3.9.5"
  },
  "orig_nbformat": 4
 },
 "nbformat": 4,
 "nbformat_minor": 2
}
