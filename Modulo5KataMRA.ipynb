{
 "cells": [
  {
   "cell_type": "markdown",
   "metadata": {},
   "source": [
    "## Módulo 5 Kata"
   ]
  },
  {
   "cell_type": "markdown",
   "metadata": {},
   "source": [
    "### Ejercicio 1 - Utilizar operadores aritméticos"
   ]
  },
  {
   "cell_type": "code",
   "execution_count": 3,
   "metadata": {},
   "outputs": [
    {
     "name": "stdout",
     "output_type": "stream",
     "text": [
      "Distancia entre los planetas: 628949330 km o 390577534 mi\n"
     ]
    }
   ],
   "source": [
    "dis_tierra = 149597870 #km\n",
    "dis_jupiter = 778547200 #km\n",
    "\n",
    "dis_entre_planetas = dis_jupiter - dis_tierra #km\n",
    "dis_en_millas = dis_entre_planetas*0.621\n",
    "\n",
    "print(\"Distancia entre los planetas: {km} km o {mi} mi\".format(km=dis_entre_planetas, mi=round(dis_en_millas)))"
   ]
  },
  {
   "cell_type": "markdown",
   "metadata": {},
   "source": [
    "### Ejercicio 2 - Convierte cadenas en números y usa valores absolutos"
   ]
  },
  {
   "cell_type": "code",
   "execution_count": 4,
   "metadata": {},
   "outputs": [
    {
     "name": "stdout",
     "output_type": "stream",
     "text": [
      "Distancia entre los planetas: 670400000 km o 416318400 mi\n"
     ]
    }
   ],
   "source": [
    "distancia_1 = input(\"Ingresa la distancia del planeta 1: \")\n",
    "distancia_2 = input(\"Ingresa la distancia del planeta 2: \")\n",
    "\n",
    "distancia_1 = int(distancia_1)\n",
    "distancia_2 = int(distancia_2)\n",
    "\n",
    "dis_entre_planetas = abs(distancia_2 - distancia_1)\n",
    "dis_en_millas = dis_entre_planetas*0.621\n",
    "\n",
    "print(\"Distancia entre los planetas: {km} km o {mi} mi\".format(km=dis_entre_planetas, mi=round(dis_en_millas)))"
   ]
  }
 ],
 "metadata": {
  "interpreter": {
   "hash": "38740d3277777e2cd7c6c2cc9d8addf5118fdf3f82b1b39231fd12aeac8aee8b"
  },
  "kernelspec": {
   "display_name": "Python 3.9.5 64-bit",
   "language": "python",
   "name": "python3"
  },
  "language_info": {
   "codemirror_mode": {
    "name": "ipython",
    "version": 3
   },
   "file_extension": ".py",
   "mimetype": "text/x-python",
   "name": "python",
   "nbconvert_exporter": "python",
   "pygments_lexer": "ipython3",
   "version": "3.9.5"
  },
  "orig_nbformat": 4
 },
 "nbformat": 4,
 "nbformat_minor": 2
}
