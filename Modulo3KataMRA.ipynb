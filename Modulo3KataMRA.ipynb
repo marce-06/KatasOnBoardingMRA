{
 "cells": [
  {
   "cell_type": "markdown",
   "metadata": {},
   "source": [
    "## Módulo 3 Kata"
   ]
  },
  {
   "cell_type": "markdown",
   "metadata": {},
   "source": [
    "### Ejercicio 1 - Escribir declaraciones if, else, y elif"
   ]
  },
  {
   "cell_type": "code",
   "execution_count": 14,
   "metadata": {},
   "outputs": [
    {
     "name": "stdout",
     "output_type": "stream",
     "text": [
      "ADVERTENCIA ¡Un asteroide se está acercando a 49 km/s!\n"
     ]
    }
   ],
   "source": [
    "vel_asteroide = 49 #km/s\n",
    "vel_limite = 25 #km/s\n",
    "\n",
    "if vel_asteroide > vel_limite:\n",
    "    print(\"ADVERTENCIA ¡Un asteroide se está acercando a \" + str(vel_asteroide) + \" km/s!\")"
   ]
  },
  {
   "cell_type": "code",
   "execution_count": 5,
   "metadata": {},
   "outputs": [
    {
     "name": "stdout",
     "output_type": "stream",
     "text": [
      "¡Atento! Se acerca un asteroide a 27 km/s, ¡Puede aparecer un rayo en el cielo!\n",
      "ADVERTENCIA ¡El asteroide se está acercando a gran velocidad!\n"
     ]
    }
   ],
   "source": [
    "vel_asteroide = 27 #km/s\n",
    "\n",
    "vel_luz = 20 #km/s\n",
    "vel_limite = 25 #km/s\n",
    "\n",
    "if vel_asteroide <= vel_limite:\n",
    "    if vel_asteroide >= vel_luz:\n",
    "        print(\"¡Atento! Se acerca un asteroide a \" + str(vel_asteroide) + \" km/s, ¡Puede aparecer un rayo en el cielo!\")\n",
    "elif vel_asteroide > vel_limite:\n",
    "    print(\"¡Atento! Se acerca un asteroide a \" + str(vel_asteroide) + \" km/s, ¡Puede aparecer un rayo en el cielo!\")\n",
    "    print(\"ADVERTENCIA ¡El asteroide se está acercando a gran velocidad!\")"
   ]
  },
  {
   "cell_type": "markdown",
   "metadata": {},
   "source": [
    "### Ejercicio 2 - uso de operadores and y or"
   ]
  },
  {
   "cell_type": "code",
   "execution_count": 13,
   "metadata": {},
   "outputs": [
    {
     "name": "stdout",
     "output_type": "stream",
     "text": [
      "¡Atento! Se acerca un asteroide a 29 km/s, ¡Puede aparecer un rayo en el cielo!\n",
      "ADVERTENCIA ¡El asteroide se está acercando a gran velocidad!\n",
      "ADVERTENCIA ¡El asteroide tiene un tamaño de 28 m!\n"
     ]
    }
   ],
   "source": [
    "vel_asteroide = 29 #km/s\n",
    "tam_asteroide = 28 #m\n",
    "\n",
    "vel_limite = 25 #km/s\n",
    "vel_luz = 20 #km/s\n",
    "tam_lim_inf = 25 #m\n",
    "\n",
    "if vel_asteroide <= vel_limite:\n",
    "    if vel_asteroide < vel_luz and tam_asteroide >= tam_asteroide:\n",
    "        print(\"ADVERTENCIA ¡Se acerca un asteroide que tiene un tamaño de \" + str(tam_asteroide) + \" m!\")\n",
    "    elif vel_asteroide >= vel_luz and tam_asteroide >= tam_lim_inf:\n",
    "        print(\"¡Atento! Se acerca un asteroide a \" + str(vel_asteroide) + \" km/s, ¡Puede aparecer un rayo en el cielo!\")\n",
    "        print(\"ADVERTENCIA ¡El asteroide tiene un tamaño de \" + str(tam_asteroide) + \" m!\")\n",
    "    elif vel_asteroide >= vel_luz and tam_asteroide < tam_lim_inf:\n",
    "        print(\"¡Atento! Se acerca un asteroide a \" + str(vel_asteroide) + \" km/s, ¡Puede aparecer un rayo en el cielo!\")\n",
    "elif vel_asteroide > vel_limite:\n",
    "    if tam_asteroide < tam_lim_inf:\n",
    "        print(\"¡Atento! Se acerca un asteroide a \" + str(vel_asteroide) + \" km/s, ¡Puede aparecer un rayo en el cielo!\")\n",
    "        print(\"ADVERTENCIA ¡El asteroide se está acercando a gran velocidad!\")\n",
    "    elif tam_asteroide >= tam_lim_inf:\n",
    "        print(\"¡Atento! Se acerca un asteroide a \" + str(vel_asteroide) + \" km/s, ¡Puede aparecer un rayo en el cielo!\")\n",
    "        print(\"ADVERTENCIA ¡El asteroide se está acercando a gran velocidad!\")\n",
    "        print(\"ADVERTENCIA ¡El asteroide tiene un tamaño de \" + str(tam_asteroide) + \" m!\")"
   ]
  }
 ],
 "metadata": {
  "interpreter": {
   "hash": "38740d3277777e2cd7c6c2cc9d8addf5118fdf3f82b1b39231fd12aeac8aee8b"
  },
  "kernelspec": {
   "display_name": "Python 3.9.5 64-bit",
   "language": "python",
   "name": "python3"
  },
  "language_info": {
   "codemirror_mode": {
    "name": "ipython",
    "version": 3
   },
   "file_extension": ".py",
   "mimetype": "text/x-python",
   "name": "python",
   "nbconvert_exporter": "python",
   "pygments_lexer": "ipython3",
   "version": "3.9.5"
  },
  "orig_nbformat": 4
 },
 "nbformat": 4,
 "nbformat_minor": 2
}
