{
 "cells": [
  {
   "cell_type": "markdown",
   "metadata": {},
   "source": [
    "## Módulo 6 Kata"
   ]
  },
  {
   "cell_type": "markdown",
   "metadata": {},
   "source": [
    "### Ejercicio 1 - Crear y usar listas de Python"
   ]
  },
  {
   "cell_type": "code",
   "execution_count": 5,
   "metadata": {},
   "outputs": [
    {
     "name": "stdout",
     "output_type": "stream",
     "text": [
      "Cantidad de planetas: 8\n",
      "Cantidad de planetas: 9\n",
      "Último planeta en la lista: Plutón\n"
     ]
    }
   ],
   "source": [
    "planets = [\"mercurio\", \"venus\", \"tierra\", \"marte\", \"júpiter\", \"saturno\", \"urano\", \"neptuno\"]\n",
    "print(\"Cantidad de planetas: {np}\".format(np=len(planets)))\n",
    "\n",
    "planets.append(\"Plutón\")\n",
    "print(\"\"\"Cantidad de planetas: {np}\n",
    "Último planeta en la lista: {lp}\"\"\".format(np=len(planets), lp=planets[-1]))"
   ]
  },
  {
   "cell_type": "markdown",
   "metadata": {},
   "source": [
    "### Ejercicio 2 - Trabajando con datos de una lista"
   ]
  },
  {
   "cell_type": "code",
   "execution_count": 7,
   "metadata": {},
   "outputs": [
    {
     "name": "stdout",
     "output_type": "stream",
     "text": [
      "Los planetas más cercanos al sol que el ingresado son: ['mercurio', 'venus', 'tierra']\n",
      "Los planetas más alejados del sol que el ingresado son: ['júpiter', 'saturno', 'urano', 'neptuno']\n"
     ]
    }
   ],
   "source": [
    "planets = [\"mercurio\", \"venus\", \"tierra\", \"marte\", \"júpiter\", \"saturno\", \"urano\", \"neptuno\"]\n",
    "\n",
    "planet_name = input(\"Ingrese el nombre de un planeta. Favor de utilizar sólo letras minúsculas: \")\n",
    "planet_index = planets.index(planet_name)\n",
    "print(\"Los planetas más cercanos al sol que el ingresado son: {cp}\".format(cp=planets[:planet_index]))\n",
    "print(\"Los planetas más alejados del sol que el ingresado son: {fp}\".format(fp=planets[planet_index+1:]))"
   ]
  }
 ],
 "metadata": {
  "interpreter": {
   "hash": "38740d3277777e2cd7c6c2cc9d8addf5118fdf3f82b1b39231fd12aeac8aee8b"
  },
  "kernelspec": {
   "display_name": "Python 3.9.5 64-bit",
   "language": "python",
   "name": "python3"
  },
  "language_info": {
   "codemirror_mode": {
    "name": "ipython",
    "version": 3
   },
   "file_extension": ".py",
   "mimetype": "text/x-python",
   "name": "python",
   "nbconvert_exporter": "python",
   "pygments_lexer": "ipython3",
   "version": "3.9.5"
  },
  "orig_nbformat": 4
 },
 "nbformat": 4,
 "nbformat_minor": 2
}
