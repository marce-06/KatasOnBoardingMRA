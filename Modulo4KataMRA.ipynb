{
 "cells": [
  {
   "cell_type": "markdown",
   "metadata": {},
   "source": [
    "## Módulo 4 Kata"
   ]
  },
  {
   "cell_type": "markdown",
   "metadata": {},
   "source": [
    "### Ejercicio 1 - Transformar cadenas"
   ]
  },
  {
   "cell_type": "code",
   "execution_count": 15,
   "metadata": {},
   "outputs": [
    {
     "name": "stdout",
     "output_type": "stream",
     "text": [
      " On average, the Moon moves 4cm away from the Earth every year\n",
      " The highest daylight temperature of the Moon is 127 Celsius\n"
     ]
    }
   ],
   "source": [
    "text = \"\"\"Interesting facts about the Moon. The Moon is Earth's only satellite. There are several interesting facts about \n",
    "the Moon and how it affects life here on Earth. On average, the Moon moves 4cm away from the Earth every year. \n",
    "This yearly drift is not significant enough to cause immediate effects on Earth. The highest daylight temperature of the Moon is 127 C.\"\"\"\n",
    "\n",
    "split_text = text.split(\".\")\n",
    "keywords = [\"average\", \"temperature\", \"distance\"]\n",
    "\n",
    "for key in keywords:\n",
    "    for sentence in split_text:\n",
    "        if \"C\" in sentence:\n",
    "            sentence = sentence.replace(\"C\", \"Celsius\")\n",
    "        if key in sentence:\n",
    "            print(sentence)\n"
   ]
  },
  {
   "cell_type": "markdown",
   "metadata": {},
   "source": [
    "### Ejercicio 2 - Formateando cadenas"
   ]
  },
  {
   "cell_type": "code",
   "execution_count": 28,
   "metadata": {},
   "outputs": [
    {
     "name": "stdout",
     "output_type": "stream",
     "text": [
      "Moon's gravity, a moon from Earth \n",
      "Value: 1.62 m/s2\n",
      "Moon's gravity, a moon from Earth \n",
      "Value: 1.62 m/s2\n"
     ]
    }
   ],
   "source": [
    "name = \"Moon\"\n",
    "gravity = 0.00162 # in kms\n",
    "planet = \"Earth\"\n",
    "\n",
    "title = f\"{name}'s gravity, a moon from {planet}\"\n",
    "val_gravity = f\"Value: {round(gravity*1000,2)} m/s2\"\n",
    "\n",
    "full_text = f\"{title} \\n{val_gravity}\"\n",
    "print(full_text)\n",
    "\n",
    "planet = 'Marte'\n",
    "gravity = 0.00143\n",
    "name = 'Ganímedes'\n",
    "print(full_text)"
   ]
  },
  {
   "cell_type": "code",
   "execution_count": 32,
   "metadata": {},
   "outputs": [
    {
     "name": "stdout",
     "output_type": "stream",
     "text": [
      "Moon's gravity, a moon from Earth\n",
      "Value: 1.62 m/s2\n",
      "Ganímedes's gravity, a moon from Marte\n",
      "Value: 1.43 m/s2\n"
     ]
    }
   ],
   "source": [
    "name = \"Moon\"\n",
    "gravity = 0.00162 # in kms\n",
    "planet = \"Earth\"\n",
    "\n",
    "title = \"{n}'s gravity, a moon from {p}\"\n",
    "val_gravity = \"Value: {g} m/s2\"\n",
    "\n",
    "full_text = title +\"\\n\"+ val_gravity\n",
    "print(full_text.format(n=name, p=planet, g=round(gravity*1000,2)))\n",
    "\n",
    "planet = 'Marte'\n",
    "gravity = 0.00143\n",
    "name = 'Ganímedes'\n",
    "print(full_text.format(n=name, p=planet, g=round(gravity*1000,2)))"
   ]
  }
 ],
 "metadata": {
  "interpreter": {
   "hash": "38740d3277777e2cd7c6c2cc9d8addf5118fdf3f82b1b39231fd12aeac8aee8b"
  },
  "kernelspec": {
   "display_name": "Python 3.9.5 64-bit",
   "language": "python",
   "name": "python3"
  },
  "language_info": {
   "codemirror_mode": {
    "name": "ipython",
    "version": 3
   },
   "file_extension": ".py",
   "mimetype": "text/x-python",
   "name": "python",
   "nbconvert_exporter": "python",
   "pygments_lexer": "ipython3",
   "version": "3.9.5"
  },
  "orig_nbformat": 4
 },
 "nbformat": 4,
 "nbformat_minor": 2
}
